{
 "cells": [
  {
   "cell_type": "markdown",
   "metadata": {},
   "source": [
    "# Convert from GeoPackage to AiGIS format file (Multi-wavelength)\n",
    "- Input: NIRS3 L2d vector data (GeoPackage)\n",
    "- Output: Multi-value for one polygon AiGIS format"
   ]
  },
  {
   "cell_type": "code",
   "execution_count": 1,
   "metadata": {
    "id": "mS0OFieIyvOG"
   },
   "outputs": [],
   "source": [
    "import numpy as np\n",
    "import math\n",
    "import pandas as pd\n",
    "import geopandas as gpd\n",
    "from shapely.geometry import Polygon, LineString, GeometryCollection\n",
    "from shapely.ops import split"
   ]
  },
  {
   "cell_type": "code",
   "execution_count": 2,
   "metadata": {
    "id": "aF_k7x81yvOJ"
   },
   "outputs": [],
   "source": [
    "def read_obj_file(file_path):\n",
    "    # lists for vertices and faces\n",
    "    vertices = []\n",
    "    faces = []\n",
    "\n",
    "    # Open shape model OBJ file\n",
    "    with open(file_path, 'r') as file:\n",
    "        for line in file:\n",
    "            # Vertex information starts from 'v'\n",
    "            if line.startswith('v '):\n",
    "                # Store xyz coordinate of vertices\n",
    "                vertex = list(map(float, line.split()[1:])) \n",
    "                vertices.append(vertex)\n",
    "\n",
    "            # Face information starts from 'f'\n",
    "            elif line.startswith('f '):\n",
    "                # Store the indeces which compose the face\n",
    "                face = [int(idx.split('/')[0]) - 1 for idx in line.split()[1:]]  # '/'で分割してインデックスのみ取得\n",
    "                faces.append(face)\n",
    "\n",
    "    return vertices, faces\n",
    "\n",
    "def create_polygon(coords):\n",
    "    longitudes = [lon for lon, lat in coords]\n",
    "    difference  = max(longitudes) - min(longitudes)\n",
    "    adjust_lon = (difference >= 300)\n",
    "    adjusted_coords = [(lon - 360 if lon > 300 and adjust_lon else lon, lat) for lon, lat in coords]\n",
    "    return Polygon(adjusted_coords)\n",
    "\n",
    "# Split a polygon if the polygon intersect with longitude 0 degree\n",
    "def split_polygon_at_line(polygon, line):\n",
    "    result = []\n",
    "    try:\n",
    "        if polygon.intersects(line):\n",
    "            split_result = split(polygon, line)\n",
    "            if isinstance(split_result, GeometryCollection):\n",
    "                for part in split_result.geoms:\n",
    "                    if not part.is_empty:\n",
    "                        result.append(part)\n",
    "            else:\n",
    "                if not split_result.is_empty:\n",
    "                    result.append(split_result)\n",
    "\n",
    "    except Exception as e:\n",
    "        print(f\"Error in split_polygon_at_line: {e}\")\n",
    "\n",
    "    return result\n",
    "\n",
    "line = LineString([(0, -90), (0, 90)])"
   ]
  },
  {
   "cell_type": "code",
   "execution_count": 6,
   "metadata": {
    "colab": {
     "base_uri": "https://localhost:8080/"
    },
    "executionInfo": {
     "elapsed": 266,
     "status": "ok",
     "timestamp": 1737428517635,
     "user": {
      "displayName": "Mayumi Ichikawa",
      "userId": "03792841252663974748"
     },
     "user_tz": -540
    },
    "id": "yVPZdyO3yvOK",
    "outputId": "6042e00c-2a81-413d-9afb-eb930e68d9d4"
   },
   "outputs": [
    {
     "name": "stdout",
     "output_type": "stream",
     "text": [
      "Input file:  hyb2_nirs3_20180711_01_l2d_geo.gpkg\n",
      "Output file:  nirs3_20180711_l2dmap.txt\n"
     ]
    }
   ],
   "source": [
    "# Input file: NIRS3 L2d GeoPackage data\n",
    "vector_path = './data/hyb2_nirs3_20180711_01_l2d_geo.gpkg'\n",
    "\n",
    "#Output file: AiGIS format file\n",
    "day = vector_path.split('_')[-4]\n",
    "out_folder = './output/'\n",
    "out_file =  f'nirs3_{day}_l2dmap.txt'\n",
    "out_path1 = out_folder + out_file\n",
    "out_path2 = out_folder + out_file.replace('.txt','_count.txt')\n",
    "\n",
    "print(\"Input file: \", vector_path.split('/')[-1])\n",
    "print(\"Output file: \", out_file)\n",
    "\n",
    "# Shape model OBJ file\n",
    "file_path = './data/SHAPE_SPC_49k_v20200323.obj' \n",
    "\n",
    "# Set NIRS3 spectral wavelength (micron) (ref. SIS document)\n",
    "n=np.arange(128)+1\n",
    "wl_all=(1230.33+18.5651*n-0.00492138*n**2)/1000.\n"
   ]
  },
  {
   "cell_type": "code",
   "execution_count": 7,
   "metadata": {
    "id": "YlYBtws2yvOL"
   },
   "outputs": [],
   "source": [
    "# Read vertices and faces from the shape model OBJ file\n",
    "vertices, faces = read_obj_file(file_path)\n",
    "\n",
    "# Open input vector file (geopackage)\n",
    "gdf = gpd.read_file(vector_path)\n",
    "\n",
    "#convert xyz coordinates to map coordinates\n",
    "root_xy = [math.sqrt(vertex[0]**2 + vertex[1]**2) for vertex in vertices]\n",
    "root_xyz = [math.sqrt(vertex[0]**2 + vertex[1]**2 + vertex[2]**2) for vertex in vertices]\n",
    "\n",
    "cos = [vertices[0] / r_xy if vertices[1] > 0 else vertices[0] / r_xy * (-1) for vertices, r_xy in zip(vertices, root_xy)]\n",
    "sin = [vertices[2] / r_xyz for vertices, r_xyz in zip(vertices, root_xyz)]\n",
    "\n",
    "lon = [(math.acos(c) * 180 / math.pi) if vertices[1] > 0 else (180 + math.acos(c) * 180 / math.pi)\n",
    "    for vertices, c in zip(vertices, cos)]\n",
    "lon_np = np.array(lon)\n",
    "\n",
    "lat = [(math.asin(s) * 180 / math.pi) for s in sin]\n",
    "lat_np = np.array(lat)\n",
    "\n",
    "face_coordinates = []\n",
    "average_result = []\n",
    "count_result = []\n",
    "\n",
    "f = 0\n",
    "for face in faces:\n",
    "    coordinates = []\n",
    "    for idx in face:\n",
    "        lon_val = lon[idx]\n",
    "        lat_val = lat[idx]\n",
    "\n",
    "        coordinates.append((lon_val,lat_val))\n",
    "    face_coordinates.append(coordinates)\n",
    "\n",
    "    if coordinates:\n",
    "        coordinates.append(coordinates[0])\n",
    "\n",
    "    #座標リストをpolygonにする\n",
    "    poly = create_polygon(coordinates)\n",
    "    try:\n",
    "        split_polygons = split_polygon_at_line(poly, line)\n",
    "    except Exception as e:\n",
    "        print(f\"Error splitting feature {f}: {e}\")\n",
    "        continue\n",
    "\n",
    "    if not split_polygons:\n",
    "        overlap = gdf[gdf.geometry.intersects(poly)]\n",
    "    else:\n",
    "        tmp1 = gdf[gdf.geometry.intersects(split_polygons[0])]\n",
    "        tmp2 = gdf[gdf.geometry.intersects(split_polygons[1])]\n",
    "        con = pd.concat([tmp1, tmp2])\n",
    "        overlap = con.drop_duplicates().reset_index(drop=True)\n",
    "        aa = 0\n",
    "\n",
    "    columns_to_keep  = [col for col in overlap.columns if \"wl\" in col]\n",
    "\n",
    "    if columns_to_keep:\n",
    "        # 数値列のみを選択して平均値を計算\n",
    "        ave_value = overlap[columns_to_keep].select_dtypes(include=\"number\").mean(axis=0)\n",
    "        count = len(overlap)\n",
    "\n",
    "    else:\n",
    "        print(\"No columns containing 'wl' were found.\")\n",
    "        ave_value = None\n",
    "        count = None\n",
    "\n",
    "    if isinstance(ave_value, pd.Series):\n",
    "        ave_value_dict = ave_value.to_dict()\n",
    "    else:\n",
    "        ave_value_dict = eval(ave_value)\n",
    "\n",
    "    values = list(ave_value_dict.values())\n",
    "\n",
    "    average_result.append(values)\n",
    "    count_result.append(count)\n",
    "\n",
    "    # 各面の座標リストをface_coordinatesに追加\n",
    "    face_coordinates.append(coordinates)\n",
    "\n",
    "    f = f + 1"
   ]
  },
  {
   "cell_type": "code",
   "execution_count": 8,
   "metadata": {
    "colab": {
     "base_uri": "https://localhost:8080/"
    },
    "executionInfo": {
     "elapsed": 8221,
     "status": "ok",
     "timestamp": 1737428749164,
     "user": {
      "displayName": "Mayumi Ichikawa",
      "userId": "03792841252663974748"
     },
     "user_tz": -540
    },
    "id": "hU6nr0IvyvOL",
    "outputId": "8febc9e0-4ca2-4b06-a8ed-b9a87c8dbec8"
   },
   "outputs": [
    {
     "name": "stdout",
     "output_type": "stream",
     "text": [
      "complete!\n"
     ]
    }
   ],
   "source": [
    "#Output AiGIS format file\n",
    "with open(out_path1, 'w') as f:\n",
    "    # Write AiGIS header\n",
    "    f.write(\"NIRS_COUNT\\n\")\n",
    "    f.write(\"reflectance[-]\\n\")\n",
    "    f.write(\"wavelength[micron]\\n\")\n",
    "    f.write(f\"{len(average_result)}\\n\")\n",
    "    f.write(f\"_ \")\n",
    "    wl = \" \".join([f\"{value:.6f}\" for value in wl_all[30:103]])\n",
    "    f.write(wl + \"\\n\")\n",
    "\n",
    "    # Write reflectance value from 1.8 to 3.1 um.\n",
    "    min_wl = wl_all[30]\n",
    "    max_wl = wl_all[103]\n",
    "\n",
    "    ii=1\n",
    "    for i in average_result:\n",
    "        indices = [k for k, wl in enumerate(wl_all) if min_wl <= wl <= max_wl]\n",
    "        selected_reflectance = [i[k] for k in indices]\n",
    "\n",
    "        formatted_reflectance = \" \".join(\n",
    "            \"0.0\" if str(r).strip().lower() == 'nan' else f\"{float(r):.6f}\"\n",
    "            for r in selected_reflectance\n",
    "        )\n",
    "\n",
    "        f.write(f\"{ii} {formatted_reflectance}\\n\")\n",
    "        ii = ii+1\n",
    "\n",
    "\n",
    "ii=1\n",
    "with open(out_path2, 'w') as f:\n",
    "    # Write AiGIS header\n",
    "    f.write(\"NIRS_COUNT\\n\")\n",
    "    f.write(\"-\\n\")\n",
    "    f.write(f\"{len(average_result)}\\n\")\n",
    "    for i in count_result:\n",
    "        f.write(f\"{ii} {i:.6f}\\n\")\n",
    "        ii=ii+1\n",
    "\n",
    "print('complete!')"
   ]
  }
 ],
 "metadata": {
  "colab": {
   "provenance": []
  },
  "kernelspec": {
   "display_name": "gis",
   "language": "python",
   "name": "python3"
  },
  "language_info": {
   "codemirror_mode": {
    "name": "ipython",
    "version": 3
   },
   "file_extension": ".py",
   "mimetype": "text/x-python",
   "name": "python",
   "nbconvert_exporter": "python",
   "pygments_lexer": "ipython3",
   "version": "3.12.4"
  }
 },
 "nbformat": 4,
 "nbformat_minor": 0
}
