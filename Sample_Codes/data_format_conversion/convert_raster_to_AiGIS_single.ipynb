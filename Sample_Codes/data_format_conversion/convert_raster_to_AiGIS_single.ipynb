{
 "cells": [
  {
   "cell_type": "markdown",
   "metadata": {},
   "source": [
    "# Convert from GeoTIFF to AiGIS format file (Single value)\n",
    "- Input: ONC multi-band GeoTIFF map\n",
    "- Output: Single value AiGIS format map"
   ]
  },
  {
   "cell_type": "code",
   "execution_count": 12,
   "metadata": {},
   "outputs": [],
   "source": [
    "import numpy as np\n",
    "import math\n",
    "import rasterio\n",
    "import pandas as pd\n",
    "import geopandas as gpd\n",
    "from shapely.geometry import Polygon, LineString, GeometryCollection\n",
    "from shapely.ops import split\n",
    "import csv\n",
    "\n",
    "import datetime"
   ]
  },
  {
   "cell_type": "code",
   "execution_count": 13,
   "metadata": {},
   "outputs": [],
   "source": [
    "def read_obj_file(file_path):\n",
    "    # lists for vertices and faces\n",
    "    vertices = []\n",
    "    faces = []\n",
    "\n",
    "    # open shape model OBJ file\n",
    "    with open(file_path, 'r') as file:\n",
    "        for line in file:\n",
    "            # Vertex information starts from 'v'\n",
    "            if line.startswith('v '):\n",
    "                # Store xyz coordinate of vertices\n",
    "                vertex = list(map(float, line.split()[1:])) \n",
    "                vertices.append(vertex)\n",
    "\n",
    "            # Face information starts from 'f'\n",
    "            elif line.startswith('f '):\n",
    "                # Store the indeces which compose the face\n",
    "                face = [int(idx.split('/')[0]) - 1 for idx in line.split()[1:]] \n",
    "                faces.append(face)\n",
    "\n",
    "    return vertices, faces\n",
    "\n",
    "def adjusted_coordinates(coords):\n",
    "    longitudes = [lon for lon, lat in coords]\n",
    "    difference  = max(longitudes) - min(longitudes)\n",
    "    adjust_lon = (difference >= 300)\n",
    "    adjusted_coords = [(lon - 360 if lon > 300 and adjust_lon else lon, lat) for lon, lat in coords]\n",
    "    return adjusted_coords"
   ]
  },
  {
   "cell_type": "code",
   "execution_count": 14,
   "metadata": {},
   "outputs": [],
   "source": [
    "# Input file: ONC multi-band mosaic map (GeoTIFF)\n",
    "in_raster = './data/hyb2_onc_mos_20181003_MascotSeparation.tif'\n",
    "\n",
    "# ONC filter wavelengths (micron)\n",
    "# wl = [0.40,0.48,0.55,0.59,0.70,0.86,0.95]\n",
    "band = 2 #set as 0.55 micron (v-band)\n",
    "file_path = './data/SHAPE_SPC_49k_v20200323.obj' \n",
    "\n",
    "#output AiGIS format file paths\n",
    "out_folder = './output/'\n",
    "out_path =  out_folder + 'ONC_MSC_v-band_AiGIS.txt'"
   ]
  },
  {
   "cell_type": "code",
   "execution_count": 15,
   "metadata": {},
   "outputs": [
    {
     "name": "stdout",
     "output_type": "stream",
     "text": [
      "0.0 20.0734 360.03599999999994 -31.6226\n"
     ]
    }
   ],
   "source": [
    "vertices, faces = read_obj_file(file_path)\n",
    "\n",
    "#open raster\n",
    "in_raster = './data/hyb2_onc_mos_20181003_MascotSeparation.tif'\n",
    "raster = rasterio.open(in_raster)\n",
    "data = raster.read()\n",
    "\n",
    "ulx, uly = raster.xy(0, 0)\n",
    "rows,cols = raster.shape\n",
    "px = raster.transform[0]\n",
    "py = raster.transform[4]*(-1)\n",
    "\n",
    "ulx = ulx - px/2\n",
    "uly = uly + py/2\n",
    "\n",
    "lrx = ulx + cols*px\n",
    "lry = uly - rows*py\n",
    "\n",
    "print(ulx,uly,lrx,lry)"
   ]
  },
  {
   "cell_type": "code",
   "execution_count": 16,
   "metadata": {},
   "outputs": [],
   "source": [
    "vertices = vertices\n",
    "\n",
    "root_xy = [math.sqrt(vertex[0]**2 + vertex[1]**2) for vertex in vertices]\n",
    "root_xyz = [math.sqrt(vertex[0]**2 + vertex[1]**2 + vertex[2]**2) for vertex in vertices]\n",
    "\n",
    "cos = [vertices[0] / r_xy if vertices[1] > 0 else vertices[0] / r_xy * (-1) for vertices, r_xy in zip(vertices, root_xy)]\n",
    "sin = [vertices[2] / r_xyz for vertices, r_xyz in zip(vertices, root_xyz)]\n",
    "\n",
    "lon = [(math.acos(c) * 180 / math.pi) if vertices[1] > 0 else (180 + math.acos(c) * 180 / math.pi)\n",
    "    for vertices, c in zip(vertices, cos)]\n",
    "lon_np = np.array(lon)\n",
    "\n",
    "lat = [(math.asin(s) * 180 / math.pi) for s in sin]\n",
    "lat_np = np.array(lat)\n",
    "\n",
    "face_coordinates = []\n",
    "count_result = []\n",
    "\n",
    "for face in faces:\n",
    "    coordinates = []\n",
    "    for idx in face:\n",
    "        lon_val = lon[idx]\n",
    "        lat_val = lat[idx]\n",
    "        \n",
    "        coordinates.append((lon_val,lat_val)) \n",
    "    \n",
    "    # If the longitude exceeds 360, adjust the coordinates\n",
    "    face_coordinates.append(adjusted_coordinates(coordinates))\n",
    "    count_result.append(1)"
   ]
  },
  {
   "cell_type": "code",
   "execution_count": 17,
   "metadata": {},
   "outputs": [
    {
     "name": "stdout",
     "output_type": "stream",
     "text": [
      "Number of valid indices:  20865\n"
     ]
    }
   ],
   "source": [
    "# convert map coordicates to image coordinates\n",
    "ras_v = []\n",
    "face_coordinates_np = np.array(face_coordinates, dtype=object)\n",
    "x_coords_np = np.array([[coord[0] for coord in coords] for coords in face_coordinates_np])\n",
    "y_coords_np = np.array([[coord[1] for coord in coords] for coords in face_coordinates_np])\n",
    "\n",
    "# mean map coordiantes (gx, gy)\n",
    "gx = np.mean(x_coords_np, axis=1)\n",
    "gx = np.where(gx < 0, gx + 360, gx)\n",
    "gy = np.mean(y_coords_np, axis=1)\n",
    "\n",
    "# calculate image coordinates\n",
    "img_x = np.floor(gx / px).astype(int)\n",
    "img_y = np.floor((uly - gy) / py).astype(int)\n",
    "\n",
    "# if the length of x_coords_np and y_coords_np is not 3, set the image coordinates to 0\n",
    "valid_indices = (x_coords_np.shape[1] == 3) & (y_coords_np.shape[1] == 3) & (img_x >= 0) & (img_y >= 0) & (img_x < raster.shape[1]) & (img_y < raster.shape[0])\n",
    "\n",
    "print('Number of valid indices: ', np.sum(valid_indices))\n",
    "\n",
    "invalid_indices = ~valid_indices\n",
    "img_x[invalid_indices] = 0\n",
    "img_y[invalid_indices] = 0\n",
    "\n",
    "num_bands = raster.count # band count for the input raster\n",
    "ras_v = [] # empty list to store pixel values\n",
    "\n",
    "band_data = raster.read(band)\n",
    "values = band_data[img_y, img_x]\n",
    "ras_v.append(values)\n",
    "\n",
    "ras_v = np.array(ras_v).T\n",
    "\n",
    "# for invalid indices, set the pixel values to 0\n",
    "ras_v[invalid_indices] = 0.0\n",
    "count_result = np.zeros_like(valid_indices, dtype=int)\n",
    "count_result[valid_indices] = 1\n",
    "\n",
    "valid_indices2 = (ras_v != -1.0) \n",
    "ras_v[~valid_indices2] = 0.0\n",
    "count_result[~valid_indices2[:,0]] = 0"
   ]
  },
  {
   "cell_type": "code",
   "execution_count": null,
   "metadata": {},
   "outputs": [
    {
     "name": "stdout",
     "output_type": "stream",
     "text": [
      "complete!\n"
     ]
    }
   ],
   "source": [
    "#Output AiGIS format file\n",
    "with open(out_path, 'w') as f:\n",
    "    \n",
    "    # Set the header information\n",
    "    f.write(\"ONC_reflectance\\n\")\n",
    "    f.write(\"-\\n\")\n",
    "    f.write(f\"{len(count_result)}\\n\")\n",
    "\n",
    "    # write data (row 1: polygon number, row 2: pixel values)\n",
    "    for idx, row in enumerate(ras_v, start=1):\n",
    "        line = f\"{idx}\\t\" + '\\t'.join([f\"{value:.6f}\" for value in row]) + '\\n'\n",
    "        f.write(line)\n",
    "\n",
    "\n",
    "print('complete!')"
   ]
  }
 ],
 "metadata": {
  "kernelspec": {
   "display_name": "gis",
   "language": "python",
   "name": "python3"
  },
  "language_info": {
   "codemirror_mode": {
    "name": "ipython",
    "version": 3
   },
   "file_extension": ".py",
   "mimetype": "text/x-python",
   "name": "python",
   "nbconvert_exporter": "python",
   "pygments_lexer": "ipython3",
   "version": "3.12.4"
  }
 },
 "nbformat": 4,
 "nbformat_minor": 2
}
